{
  "nbformat": 4,
  "nbformat_minor": 0,
  "metadata": {
    "colab": {
      "provenance": [],
      "authorship_tag": "ABX9TyPX6CTAZ7cqSIE78YoHqfsL",
      "include_colab_link": true
    },
    "kernelspec": {
      "name": "python3",
      "display_name": "Python 3"
    },
    "language_info": {
      "name": "python"
    }
  },
  "cells": [
    {
      "cell_type": "markdown",
      "metadata": {
        "id": "view-in-github",
        "colab_type": "text"
      },
      "source": [
        "<a href=\"https://colab.research.google.com/github/osahonokoro/ammonia-sensor-simulation/blob/main/ammonia_sensor_analysis.ipynb\" target=\"_parent\"><img src=\"https://colab.research.google.com/assets/colab-badge.svg\" alt=\"Open In Colab\"/></a>"
      ]
    },
    {
      "cell_type": "code",
      "execution_count": null,
      "metadata": {
        "id": "JFX1saTedSCV"
      },
      "outputs": [],
      "source": [
        "# 📦 Install required libraries\n",
        "!pip install pandas matplotlib seaborn\n",
        "\n",
        "# 🧬 Clone your GitHub repo (replace with your actual repo URL)\n",
        "!git clone https://github.com/osahonokoro/ammonia-sensor-simulation.git\n",
        "\n",
        "import pandas as pd\n",
        "import matplotlib.pyplot as plt\n",
        "import seaborn as sns\n",
        "import os\n",
        "\n",
        "# 📁 Set paths\n",
        "csv_path = 'osahonokoro/ammonia-sensor-simulation/packet_log.csv'\n",
        "output_dir = 'chunk_outputs'\n",
        "os.makedirs(output_dir, exist_ok=True)\n",
        "\n",
        "# 🔧 Parameters\n",
        "chunk_size = 10000\n",
        "ma_window = 50\n",
        "all_chunks = []\n",
        "alert_durations = []\n",
        "normal_durations = []\n",
        "\n",
        "# 📊 Process chunks\n",
        "for i, chunk in enumerate(pd.read_csv(csv_path, chunksize=chunk_size)):\n",
        "    chunk['Timestamp'] = pd.to_datetime(chunk['Timestamp'])\n",
        "    chunk.sort_values('Timestamp', inplace=True)\n",
        "    chunk['NH4_Smoothed'] = chunk['NH4_Concentration'].rolling(ma_window, min_periods=1).mean()\n",
        "\n",
        "    # Duration calculations\n",
        "    alert_time = chunk[chunk['ALERT_Status'] == 'ALERT']['Timestamp']\n",
        "    normal_time = chunk[chunk['ALERT_Status'] == 'NORMAL']['Timestamp']\n",
        "    alert_durations.append((alert_time.max() - alert_time.min()).total_seconds() if not alert_time.empty else 0)\n",
        "    normal_durations.append((normal_time.max() - normal_time.min()).total_seconds() if not normal_time.empty else 0)\n",
        "\n",
        "    all_chunks.append(chunk)\n",
        "\n",
        "    # 📈 Plot chunk trends\n",
        "    plt.figure(figsize=(12, 6))\n",
        "    sns.lineplot(data=chunk, x='Timestamp', y='NH4_Concentration', label='Raw')\n",
        "    sns.lineplot(data=chunk, x='Timestamp', y='NH4_Smoothed', label='Smoothed')\n",
        "    plt.title(f'Chunk {i+1} NH₄⁺ Trend')\n",
        "    plt.xlabel('Time')\n",
        "    plt.ylabel('Concentration (mg/L)')\n",
        "    plt.legend()\n",
        "    plt.tight_layout()\n",
        "    plt.savefig(f'{output_dir}/chunk_{i+1}_trend.png')\n",
        "    plt.close()\n",
        "\n",
        "# 🔗 Combine all chunks\n",
        "full_data = pd.concat(all_chunks)\n",
        "\n",
        "# 📊 Final summary plot\n",
        "plt.figure(figsize=(14, 6))\n",
        "sns.lineplot(data=full_data, x='Timestamp', y='NH4_Concentration', label='Raw')\n",
        "sns.lineplot(data=full_data, x='Timestamp', y='NH4_Smoothed', label='Smoothed')\n",
        "plt.title('Overall NH₄⁺ Concentration Trend')\n",
        "plt.xlabel('Time')\n",
        "plt.ylabel('Concentration (mg/L)')\n",
        "plt.legend()\n",
        "plt.tight_layout()\n",
        "plt.savefig(f'{output_dir}/final_summary.png')\n",
        "plt.close()\n",
        "\n",
        "# 📋 Print summary stats\n",
        "print(\"✅ Final Summary:\")\n",
        "print(f\"Total ALERT duration: {sum(alert_durations)} seconds\")\n",
        "print(f\"Total NORMAL duration: {sum(normal_durations)} seconds\")\n"
      ]
    }
  ]
}